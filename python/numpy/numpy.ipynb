{
 "cells": [
  {
   "cell_type": "code",
   "execution_count": 14,
   "metadata": {},
   "outputs": [
    {
     "name": "stdout",
     "output_type": "stream",
     "text": [
      "[2.  3.5 3. ]\n"
     ]
    },
    {
     "data": {
      "text/plain": [
       "dtype('float64')"
      ]
     },
     "execution_count": 14,
     "metadata": {},
     "output_type": "execute_result"
    }
   ],
   "source": [
    "import numpy as np\n",
    "\n",
    "#можно сгенерировать список в массив\n",
    "list = [2, 3.5, 3]\n",
    "\n",
    "array = np.array(list)\n",
    "print (array)\n",
    "\n",
    "#свойства массива\n",
    "print (array.ndim) #мера \n",
    "print (array.shape) #размер \n",
    "print (array.dtype) #тип"
   ]
  },
  {
   "cell_type": "code",
   "execution_count": 4,
   "metadata": {},
   "outputs": [
    {
     "name": "stdout",
     "output_type": "stream",
     "text": [
      "[[3 4 5]\n",
      " [1 1 3]]\n"
     ]
    }
   ],
   "source": [
    "#список списков одинаковой длины можно преобразовать в многомерный массив:\n",
    "\n",
    "list = [[3,4,5],[1,1,3]]\n",
    "array = np.array(list)\n",
    "print (array)"
   ]
  },
  {
   "cell_type": "code",
   "execution_count": 17,
   "metadata": {},
   "outputs": [
    {
     "data": {
      "text/plain": [
       "array([1., 1., 1.])"
      ]
     },
     "execution_count": 17,
     "metadata": {},
     "output_type": "execute_result"
    }
   ],
   "source": [
    "#массив из нулей\n",
    "np.zeros((2,3))"
   ]
  },
  {
   "cell_type": "code",
   "execution_count": 18,
   "metadata": {},
   "outputs": [
    {
     "data": {
      "text/plain": [
       "array([1., 1., 1., 1.])"
      ]
     },
     "execution_count": 18,
     "metadata": {},
     "output_type": "execute_result"
    }
   ],
   "source": [
    "#массив из единиц\n",
    "np.ones(4)"
   ]
  },
  {
   "cell_type": "code",
   "execution_count": 19,
   "metadata": {},
   "outputs": [
    {
     "data": {
      "text/plain": [
       "array([0, 1, 2, 3, 4, 5])"
      ]
     },
     "execution_count": 19,
     "metadata": {},
     "output_type": "execute_result"
    }
   ],
   "source": [
    "np.arange(6)"
   ]
  },
  {
   "cell_type": "code",
   "execution_count": 21,
   "metadata": {},
   "outputs": [
    {
     "name": "stdout",
     "output_type": "stream",
     "text": [
      "int32\n"
     ]
    },
    {
     "data": {
      "text/plain": [
       "dtype('float64')"
      ]
     },
     "execution_count": 21,
     "metadata": {},
     "output_type": "execute_result"
    }
   ],
   "source": [
    "#можно привести тип массива к другому\n",
    "arr = np.array([1,2,3])\n",
    "print(arr.dtype)\n",
    "arr = arr.astype(np.float64)\n",
    "arr.dtype"
   ]
  },
  {
   "cell_type": "code",
   "execution_count": 27,
   "metadata": {},
   "outputs": [
    {
     "name": "stdout",
     "output_type": "stream",
     "text": [
      "[[4 1]\n",
      " [2 2]]\n",
      "[[8 2]\n",
      " [4 4]]\n",
      "[[16  1]\n",
      " [ 4  4]]\n",
      "[[9 6]\n",
      " [7 7]]\n",
      "[[2.  0.5]\n",
      " [1.  1. ]]\n"
     ]
    }
   ],
   "source": [
    "#операции над массивами\n",
    "arr = np.random.randint(-1,5,size=(2,2))\n",
    "print(arr)\n",
    "print(arr+arr)\n",
    "print(arr*arr)\n",
    "print(arr+5)\n",
    "print(arr/2)\n"
   ]
  },
  {
   "cell_type": "markdown",
   "metadata": {},
   "source": [
    "Важнейшее отличие от \n",
    "списков состоит в том, что срез массива является представлением исходного массива. Это означает, что данные на самом деле не копируются, а любые изменения, \n",
    "внесенные в представление, попадают и в исходный массив.\n",
    "Чтобы получить копию, а не представление среза массива, нужно выполнить операцию копирования явно, например: arr[5:8].copy().\n"
   ]
  },
  {
   "cell_type": "code",
   "execution_count": 34,
   "metadata": {},
   "outputs": [],
   "source": [
    "#булево индексирование\n",
    "names = np.array(['kate','ivan','olga','ivan'])\n",
    "mask = (names == 'ivan') | (names == 'kate')"
   ]
  },
  {
   "cell_type": "code",
   "execution_count": 37,
   "metadata": {},
   "outputs": [
    {
     "data": {
      "text/plain": [
       "array([[0.65335756, 0.47268134],\n",
       "       [0.36892091, 0.97313328],\n",
       "       [0.14693695, 0.83514164]])"
      ]
     },
     "execution_count": 37,
     "metadata": {},
     "output_type": "execute_result"
    }
   ],
   "source": [
    "numbers = np.random.rand(4,2)\n",
    "numbers[mask]"
   ]
  },
  {
   "cell_type": "markdown",
   "metadata": {},
   "source": [
    " Ключевые слова Python and и or с булевыми массивами не работают.\n",
    " "
   ]
  },
  {
   "cell_type": "code",
   "execution_count": 40,
   "metadata": {},
   "outputs": [
    {
     "data": {
      "text/plain": [
       "array([[0.        , 0.47268134],\n",
       "       [0.36892091, 0.        ],\n",
       "       [0.10341679, 0.        ],\n",
       "       [0.14693695, 0.        ]])"
      ]
     },
     "execution_count": 40,
     "metadata": {},
     "output_type": "execute_result"
    }
   ],
   "source": [
    "numbers[numbers>0.5] = 0\n",
    "numbers"
   ]
  },
  {
   "cell_type": "markdown",
   "metadata": {},
   "source": [
    "### Задача:\n",
    "У вас есть массив температур за последнюю неделю в городе (в градусах Цельсия):\n",
    "\n",
    "temperatures = np.array([25, 28, 31, 30, 22, 27, 29])\n",
    "\n",
    "Ваша задача:\n",
    "\n",
    "* Найдите все дни, когда температура была выше 27 градусов.\n",
    "* Уменьшите температуру на 2 градуса в те дни, когда температура была выше 27 градусов.\n",
    "* Найдите среднюю температуру за неделю после корректировки."
   ]
  },
  {
   "cell_type": "code",
   "execution_count": 47,
   "metadata": {},
   "outputs": [
    {
     "name": "stdout",
     "output_type": "stream",
     "text": [
      "[28 31 30 29]\n",
      "[25 26 29 28 22 27 27]\n",
      "26.29\n",
      "26.29\n"
     ]
    }
   ],
   "source": [
    "temperatures = np.array([25, 28, 31, 30, 22, 27, 29])\n",
    "\n",
    "print (temperatures[temperatures>27])\n",
    "temperatures[temperatures>27]-=2\n",
    "print (temperatures)\n",
    "print(f\"{sum(temperatures)/len(temperatures):.2f}\")\n",
    "print(f\"{np.mean(temperatures):.2f}\")\n"
   ]
  },
  {
   "cell_type": "markdown",
   "metadata": {},
   "source": [
    "### Задача:\n",
    "\n",
    "Вы работаете с данными о продажах в онлайн-магазине за последний месяц. У вас есть массив данных, представляющий ежедневные продажи в долларовом эквиваленте:\n",
    "\n",
    "\n",
    "\n",
    "sales = np.array([150, 200, 180, 220, 170, 190, 210, 250, 300, 270, 230, 250, \n",
    "                  240, 260, 280, 290, 310, 320, 330, 340, 300, 290, 270, 260, \n",
    "                  250, 240, 220, 210, 230, 250, 270, 290, 310, 330, 340, 350, \n",
    "                  360, 370, 380, 390, 400, 410, 420, 430, 440, 450])\n",
    "\n",
    "__Ваша задача:__\n",
    "\n",
    "* Найдите все дни, когда продажи были выше 300 долларов.\n",
    "* Рассчитайте среднее значение продаж для этих дней.\n",
    "* Найдите количество дней, когда продажи были выше 300 долларов, и процент от общего количества дней.\n",
    "* Определите, сколько денег было заработано в дни с продажами выше 300 долларов, и сравните это с общим доходом за месяц."
   ]
  },
  {
   "cell_type": "code",
   "execution_count": 55,
   "metadata": {},
   "outputs": [
    {
     "name": "stdout",
     "output_type": "stream",
     "text": [
      "[17 18 19 20 33 34 35 36 37 38 39 40 41 42 43 44 45 46]\n",
      "371.11\n",
      "18\n",
      "39.13%\n",
      "6680\n",
      "49.67%\n"
     ]
    }
   ],
   "source": [
    "sales = np.array([150, 200, 180, 220, 170, 190, 210, 250, 300, 270, 230, 250, \n",
    "                  240, 260, 280, 290, 310, 320, 330, 340, 300, 290, 270, 260, \n",
    "                  250, 240, 220, 210, 230, 250, 270, 290, 310, 330, 340, 350, \n",
    "                  360, 370, 380, 390, 400, 410, 420, 430, 440, 450])\n",
    "\n",
    "days = np.arange(46)\n",
    "days+=1\n",
    "days\n",
    "#Найдите все дни, когда продажи были выше 300 долларов.\n",
    "print (days[sales>300])\n",
    "#Рассчитайте среднее значение продаж для этих дней.\n",
    "print(f\"{np.mean(sales[sales>300]):.2f}\")\n",
    "#Найдите количество дней, когда продажи были выше 300 долларов, и процент от общего количества дней.\n",
    "print(len(days[sales>300]))\n",
    "print(f\"{len(days[sales>300])/len(sales)*100:.2f}%\")\n",
    "#Определите, сколько денег было заработано в дни с продажами выше 300 долларов, и сравните это с общим доходом за месяц.\n",
    "print(sum(sales[sales>300]))\n",
    "print(f\"{sum(sales[sales>300])/sum(sales)*100:.2f}%\")"
   ]
  },
  {
   "cell_type": "code",
   "execution_count": 61,
   "metadata": {},
   "outputs": [
    {
     "data": {
      "text/plain": [
       "4.0"
      ]
     },
     "execution_count": 61,
     "metadata": {},
     "output_type": "execute_result"
    }
   ],
   "source": [
    "arr = np.empty((8, 4))\n",
    "for i in range(8):\n",
    "    arr[i] = i\n",
    "arr[4,3]"
   ]
  },
  {
   "cell_type": "markdown",
   "metadata": {},
   "source": [
    "У вас есть массив, содержащий данные о температуре воздуха (в градусах Цельсия) за каждый час в течение суток. Вам нужно отсортировать температуры по возрастанию и вывести отсортированный массив."
   ]
  },
  {
   "cell_type": "code",
   "execution_count": 2,
   "metadata": {},
   "outputs": [
    {
     "name": "stdout",
     "output_type": "stream",
     "text": [
      "[-8. -4. -3. -1.  0.  1.  2.  3.  5.  6.  7.  8.  9. 10. 12. 14. 15. 18.\n",
      " 19. 20. 23. 24. 29. 30.]\n"
     ]
    }
   ],
   "source": [
    "import numpy as np\n",
    "temp = np.array(input().split(), dtype = float)\n",
    "#Метод sort() сортирует массив на месте и не возвращает новый отсортированный массив.\n",
    "temp.sort()\n",
    "print(temp)"
   ]
  },
  {
   "cell_type": "markdown",
   "metadata": {},
   "source": [
    "Случайные блуждания"
   ]
  },
  {
   "cell_type": "code",
   "execution_count": 25,
   "metadata": {},
   "outputs": [
    {
     "data": {
      "text/plain": [
       "23.717105263157894"
      ]
     },
     "execution_count": 25,
     "metadata": {},
     "output_type": "execute_result"
    }
   ],
   "source": [
    "nwalks = 500\n",
    "nsteps = 100\n",
    "steps = np.random.normal(loc=0, scale=1,size=(nwalks, nsteps))\n",
    "#нарастающая сумма\n",
    "draws = steps.cumsum(1)\n",
    "#строчки, в которых достигается значение 10 и больше\n",
    "hit10 = (np.abs(draws)>=10).any(1)\n",
    "#первые индексы, в строчке, где достигается значение 10 и больше\n",
    "ar = (np.abs(draws[hit10]>=10)).argmax(1)\n",
    "#средний индекс\n",
    "ar.mean()"
   ]
  },
  {
   "cell_type": "markdown",
   "metadata": {},
   "source": [
    "В настольной игре Скрабл (Scrabble) каждая буква имеет определенную ценность. В случае с английским алфавитом очки распределяются так:\n",
    "\n",
    "A, E, I, O, U, L, N, S, T, R – 1 очко;\n",
    "D, G – 2 очка;\n",
    "B, C, M, P – 3 очка;\n",
    "F, H, V, W, Y – 4 очка;\n",
    "K – 5 очков;\n",
    "J, X – 8 очков;\n",
    "Q, Z – 10 очков.\n",
    "А русские буквы оцениваются так:\n",
    "\n",
    "А, В, Е, И, Н, О, Р, С, Т – 1 очко;\n",
    "Д, К, Л, М, П, У – 2 очка;\n",
    "Б, Г, Ё, Ь, Я – 3 очка;\n",
    "Й, Ы – 4 очка;\n",
    "Ж, З, Х, Ц, Ч – 5 очков;\n",
    "Ш, Э, Ю – 8 очков;\n",
    "Ф, Щ, Ъ – 10 очков.\n",
    "Напишите программу, которая вычисляет стоимость введенного пользователем слова. Будем считать, что на вход подается только одно слово, которое содержит либо только английские, либо только русские буквы."
   ]
  },
  {
   "cell_type": "code",
   "execution_count": 27,
   "metadata": {},
   "outputs": [
    {
     "name": "stdout",
     "output_type": "stream",
     "text": [
      "5\n"
     ]
    }
   ],
   "source": [
    "dict = {\n",
    "    1:'AEIOULNSTRАВЕИНОРСТ',\n",
    "    2:'DGДКЛМПУ',\n",
    "    3:'BCMPБГЁЬЯ',\n",
    "    4:'KЙЫ',\n",
    "    5:'JXЖЗХЦЧ',\n",
    "    8:'JXШЭЮ',\n",
    "    10:'QZФЩЪ'\n",
    "}\n",
    "text = input().upper()\n",
    "print(sum([k for i in text for k,v in dict.items() if i in v]))"
   ]
  },
  {
   "cell_type": "markdown",
   "metadata": {},
   "source": [
    "Турист собирается в поход. Он сможет нести N кг вещей. Но вещей, которые он запланировал уложить в рюкзак, оказалось намного больше. Нужно определить, какие вещи от наиболее тяжелых к самым легким поместятся в рюкзак.\n",
    "\n",
    "Пример ввода:\n",
    "10\n",
    "\n",
    "Пример вывода:\n",
    "палатка\n",
    "спальный мешок\n",
    "удочка\n",
    "термос\n",
    "салфетки\n",
    "жвачка"
   ]
  },
  {
   "cell_type": "code",
   "execution_count": null,
   "metadata": {},
   "outputs": [],
   "source": [
    "things = {'зажигалка': 20, 'компас': 100, 'фрукты': 500, 'рубашка': 300,\n",
    "      \t'термос': 1000, 'аптечка': 200, 'куртка': 600, 'бинокль': 400, 'удочка': 1200,\n",
    "          'салфетки': 40, 'бутерброды': 820, 'палатка': 5500, 'спальный мешок': 2250, 'жвачка': 10}\n",
    "\n",
    "N = int(input())\n",
    "\n",
    "while N>0:\n",
    "    k = max(things.values)\n",
    "    N -=k/100\n",
    "    print(things.keys where )\n"
   ]
  }
 ],
 "metadata": {
  "kernelspec": {
   "display_name": "Python 3",
   "language": "python",
   "name": "python3"
  },
  "language_info": {
   "codemirror_mode": {
    "name": "ipython",
    "version": 3
   },
   "file_extension": ".py",
   "mimetype": "text/x-python",
   "name": "python",
   "nbconvert_exporter": "python",
   "pygments_lexer": "ipython3",
   "version": "3.10.0"
  }
 },
 "nbformat": 4,
 "nbformat_minor": 2
}
